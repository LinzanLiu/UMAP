{
  "nbformat": 4,
  "nbformat_minor": 0,
  "metadata": {
    "colab": {
      "provenance": []
    },
    "kernelspec": {
      "name": "python3",
      "display_name": "Python 3"
    },
    "language_info": {
      "name": "python"
    }
  },
  "cells": [
    {
      "cell_type": "code",
      "execution_count": 1,
      "metadata": {
        "id": "tVeeEWPxqJdX"
      },
      "outputs": [],
      "source": [
        "import pickle"
      ]
    },
    {
      "cell_type": "code",
      "source": [
        "centroids_cbd_cbd = []\n",
        "with (open(\"centroids_cbd_cbd.pkl\", \"rb\")) as openfile:\n",
        "    while True:\n",
        "        try:\n",
        "            centroids_cbd_cbd.append(pickle.load(openfile))\n",
        "        except EOFError:\n",
        "            break"
      ],
      "metadata": {
        "id": "tNo1NU_-rWZd"
      },
      "execution_count": 2,
      "outputs": []
    },
    {
      "cell_type": "code",
      "source": [
        "centroids_cbd_cbd"
      ],
      "metadata": {
        "colab": {
          "base_uri": "https://localhost:8080/"
        },
        "id": "JcwhYGb5rdq1",
        "outputId": "bb8b7a3b-5d9a-45d5-a024-0c97f23e783e"
      },
      "execution_count": 3,
      "outputs": [
        {
          "output_type": "execute_result",
          "data": {
            "text/plain": [
              "[[(5.51295454286799, 3.9007909461492476),\n",
              "  (1.9484712986945727, 3.1549642734929515),\n",
              "  (6.985025095974764, 3.381562828819702)]]"
            ]
          },
          "metadata": {},
          "execution_count": 3
        }
      ]
    },
    {
      "cell_type": "code",
      "source": [
        "centroids_combined_no_rgs = []\n",
        "with (open(\"centroids_combined_no_rgs.pkl\", \"rb\")) as openfile:\n",
        "    while True:\n",
        "        try:\n",
        "            centroids_combined_no_rgs.append(pickle.load(openfile))\n",
        "        except EOFError:\n",
        "            break"
      ],
      "metadata": {
        "id": "UJUW871Kr2IO"
      },
      "execution_count": 5,
      "outputs": []
    },
    {
      "cell_type": "code",
      "source": [
        "centroids_combined_no_rgs"
      ],
      "metadata": {
        "colab": {
          "base_uri": "https://localhost:8080/"
        },
        "id": "y8m2XjyHr9cu",
        "outputId": "12347ea1-9fb0-46e5-e0f3-b1f832683700"
      },
      "execution_count": 6,
      "outputs": [
        {
          "output_type": "execute_result",
          "data": {
            "text/plain": [
              "[[(6.440333557356271, 4.80336017627178),\n",
              "  (5.803542918437209, 5.0514861632003925),\n",
              "  (6.3985527774231015, 5.170552060418552),\n",
              "  (7.069781534819933, 4.635389850266301)]]"
            ]
          },
          "metadata": {},
          "execution_count": 6
        }
      ]
    },
    {
      "cell_type": "code",
      "source": [
        "centroids_os_basic = []\n",
        "with (open(\"centroids_os_basic.pkl\", \"rb\")) as openfile:\n",
        "    while True:\n",
        "        try:\n",
        "            centroids_os_basic.append(pickle.load(openfile))\n",
        "        except EOFError:\n",
        "            break"
      ],
      "metadata": {
        "id": "lAoP7z7Ar-1q"
      },
      "execution_count": 7,
      "outputs": []
    },
    {
      "cell_type": "code",
      "source": [
        "centroids_os_basic"
      ],
      "metadata": {
        "colab": {
          "base_uri": "https://localhost:8080/"
        },
        "id": "Hy7dnZxEsFwL",
        "outputId": "56dc74f2-883a-4249-c617-0f509d37be59"
      },
      "execution_count": 8,
      "outputs": [
        {
          "output_type": "execute_result",
          "data": {
            "text/plain": [
              "[[(6.92322752362588, 4.065262383439462),\n",
              "  (6.771552182016144, 4.643795415399378),\n",
              "  (5.962395649183677, 5.142715719166139),\n",
              "  (7.36906734398705, 4.529898529674632)]]"
            ]
          },
          "metadata": {},
          "execution_count": 8
        }
      ]
    },
    {
      "cell_type": "code",
      "source": [
        "centroids_veh_cbd = []\n",
        "with (open(\"centroids_veh_cbd.pkl\", \"rb\")) as openfile:\n",
        "    while True:\n",
        "        try:\n",
        "            centroids_veh_cbd.append(pickle.load(openfile))\n",
        "        except EOFError:\n",
        "            break"
      ],
      "metadata": {
        "id": "AxGqOHDXsHN5"
      },
      "execution_count": 9,
      "outputs": []
    },
    {
      "cell_type": "code",
      "source": [
        "centroids_veh_cbd"
      ],
      "metadata": {
        "colab": {
          "base_uri": "https://localhost:8080/"
        },
        "id": "yQGHnweLsMdr",
        "outputId": "f33ab1b2-928e-4861-9b67-8b29a95229b5"
      },
      "execution_count": 10,
      "outputs": [
        {
          "output_type": "execute_result",
          "data": {
            "text/plain": [
              "[[(7.411490819968822, 4.119131633927785),\n",
              "  (3.89237092028529, 3.49792810388437),\n",
              "  (7.280895483004002, 3.685179641840378)]]"
            ]
          },
          "metadata": {},
          "execution_count": 10
        }
      ]
    },
    {
      "cell_type": "code",
      "source": [
        "from scipy.cluster.hierarchy import dendrogram, linkage\n",
        "from scipy.spatial.distance import pdist\n",
        "import scipy.cluster.hierarchy as hac\n",
        "import numpy as np\n",
        "import pandas as pd\n",
        "import matplotlib.pyplot as plt"
      ],
      "metadata": {
        "id": "RxWVpkpjvg17"
      },
      "execution_count": 12,
      "outputs": []
    },
    {
      "cell_type": "code",
      "source": [
        "from scipy.cluster.hierarchy import cophenet\n",
        "from scipy.spatial.distance import pdist"
      ],
      "metadata": {
        "id": "1bbXqsVKDhA7"
      },
      "execution_count": 13,
      "outputs": []
    },
    {
      "cell_type": "code",
      "source": [
        "# Centroids combined no rgs\n",
        "a=np.array(centroids_combined_no_rgs[0])\n",
        "\n",
        "frame = pd.DataFrame(np.array(a), index=[\"OD\", \"OR\", \"CN\", \"HC\"])\n",
        "\n",
        "z = hac.linkage(a, method='average', metric='euclidean')\n",
        "plt.figure()\n",
        "plt.title('centroids_combined_no_rgs')\n",
        "dn = hac.dendrogram(z, labels=frame.index)"
      ],
      "metadata": {
        "colab": {
          "base_uri": "https://localhost:8080/",
          "height": 284
        },
        "id": "lX5Us8277ZE7",
        "outputId": "0a08338b-5901-433e-edbe-d9d4067eee89"
      },
      "execution_count": 51,
      "outputs": [
        {
          "output_type": "display_data",
          "data": {
            "text/plain": [
              "<Figure size 432x288 with 1 Axes>"
            ],
            "image/png": "[encoded data removed]"
          },
          "metadata": {
            "needs_background": "light"
          }
        }
      ]
    },
    {
      "cell_type": "code",
      "source": [
        "coords=a;\n",
        "labels = [\"OD\", \"OR\", \"CN\", \"HC\"]\n",
        "colors = [\"#FDB813\", \"green\", \"purple\", \"black\"]\n",
        "for i, coord in enumerate(coords):\n",
        "    plt.scatter(coord[0], coord[1], label=labels[i], c=colors[i], s=100)\n",
        "    plt.annotate(labels[i], (coord[0], coord[1]))\n",
        "# add x and y labels to the plot\n",
        "plt.xlabel('Umap 1')\n",
        "plt.ylabel('Umap 2')\n",
        "\n",
        "# add a legend to the plot\n",
        "plt.legend()\n",
        "\n",
        "plt.show()"
      ],
      "metadata": {
        "colab": {
          "base_uri": "https://localhost:8080/",
          "height": 279
        },
        "id": "BjjOGiTtlRpF",
        "outputId": "ac9a0880-94d2-4925-8a77-e0bd50d2c2ff"
      },
      "execution_count": 27,
      "outputs": [
        {
          "output_type": "display_data",
          "data": {
            "text/plain": [
              "<Figure size 432x288 with 1 Axes>"
            ],
            "image/png": "[encoded data removed]"
          },
          "metadata": {
            "needs_background": "light"
          }
        }
      ]
    },
    {
      "cell_type": "code",
      "source": [
        "centroids_combined_no_rgs"
      ],
      "metadata": {
        "colab": {
          "base_uri": "https://localhost:8080/"
        },
        "outputId": "12347ea1-9fb0-46e5-e0f3-b1f832683700",
        "id": "Vgyy1B6MjCeU"
      },
      "execution_count": null,
      "outputs": [
        {
          "output_type": "execute_result",
          "data": {
            "text/plain": [
              "[[(6.440333557356271, 4.80336017627178),\n",
              "  (5.803542918437209, 5.0514861632003925),\n",
              "  (6.3985527774231015, 5.170552060418552),\n",
              "  (7.069781534819933, 4.635389850266301)]]"
            ]
          },
          "metadata": {},
          "execution_count": 6
        }
      ]
    },
    {
      "cell_type": "code",
      "source": [
        "c, coph_dists = cophenet(z,pdist(coords))\n",
        "c"
      ],
      "metadata": {
        "colab": {
          "base_uri": "https://localhost:8080/"
        },
        "id": "Sqli8f7KFtUF",
        "outputId": "54d97649-2d04-485f-8f24-f23a4a598981"
      },
      "execution_count": 31,
      "outputs": [
        {
          "output_type": "execute_result",
          "data": {
            "text/plain": [
              "0.7312520546342425"
            ]
          },
          "metadata": {},
          "execution_count": 31
        }
      ]
    },
    {
      "cell_type": "code",
      "source": [
        "# Centroid OS basic\n",
        "a=np.array(centroids_os_basic[0])\n",
        "frame = pd.DataFrame(np.array(a), index=[\"OD\", \"OR\", \"CN\", \"HC\"])\n",
        "\n",
        "z = hac.linkage(a, method='average', metric='euclidean')\n",
        "plt.figure()\n",
        "plt.title('centroids_os_basic')\n",
        "dn = hac.dendrogram(z, labels=frame.index)"
      ],
      "metadata": {
        "colab": {
          "base_uri": "https://localhost:8080/",
          "height": 284
        },
        "id": "r1qyigjg7BDg",
        "outputId": "e9103bb1-4a51-4548-ab2d-e14e893d2dda"
      },
      "execution_count": 54,
      "outputs": [
        {
          "output_type": "display_data",
          "data": {
            "text/plain": [
              "<Figure size 432x288 with 1 Axes>"
            ],
            "image/png": "[encoded data removed]"
          },
          "metadata": {
            "needs_background": "light"
          }
        }
      ]
    },
    {
      "cell_type": "code",
      "source": [
        "coords=a;\n",
        "labels = [\"OD\", \"OR\", \"CN\", \"HC\"]\n",
        "colors = [\"#FDB813\", \"green\", \"purple\", \"black\"]\n",
        "for i, coord in enumerate(coords):\n",
        "    plt.scatter(coord[0], coord[1], label=labels[i], c=colors[i], s=100)\n",
        "    plt.annotate(labels[i], (coord[0], coord[1]))\n",
        "# add x and y labels to the plot\n",
        "plt.xlabel('Umap 1')\n",
        "plt.ylabel('Umap 2')\n",
        "\n",
        "# add a legend to the plot\n",
        "plt.legend()\n",
        "\n",
        "plt.show()"
      ],
      "metadata": {
        "colab": {
          "base_uri": "https://localhost:8080/",
          "height": 279
        },
        "id": "yDFpqnddsfo5",
        "outputId": "aa145e8e-c316-4b91-94a8-cbbf7c4d1956"
      },
      "execution_count": 39,
      "outputs": [
        {
          "output_type": "display_data",
          "data": {
            "text/plain": [
              "<Figure size 432x288 with 1 Axes>"
            ],
            "image/png": "[encoded data removed]"
          },
          "metadata": {
            "needs_background": "light"
          }
        }
      ]
    },
    {
      "cell_type": "code",
      "source": [
        "c, coph_dists = cophenet(z,pdist(coords))\n",
        "c"
      ],
      "metadata": {
        "colab": {
          "base_uri": "https://localhost:8080/"
        },
        "id": "AjqnjRQ-Fsns",
        "outputId": "557a0878-3216-4235-82ef-1470a748addf"
      },
      "execution_count": 40,
      "outputs": [
        {
          "output_type": "execute_result",
          "data": {
            "text/plain": [
              "0.8856721897235342"
            ]
          },
          "metadata": {},
          "execution_count": 40
        }
      ]
    },
    {
      "cell_type": "code",
      "source": [
        "# CBD CBD\n",
        "a=np.array(centroids_cbd_cbd[0])\n",
        "\n",
        "frame = pd.DataFrame(np.array(a), index=[\"OD\", \"OR\", \"HC\"])\n",
        "\n",
        "z = hac.linkage(a, method='average', metric='euclidean')\n",
        "plt.figure()\n",
        "plt.title('centroids_cbd_cbd')\n",
        "dn = hac.dendrogram(z, labels=frame.index)"
      ],
      "metadata": {
        "colab": {
          "base_uri": "https://localhost:8080/",
          "height": 284
        },
        "id": "voTJzcWBC_PJ",
        "outputId": "9a36a9a8-a676-4864-8beb-24fb1c22fd80"
      },
      "execution_count": 53,
      "outputs": [
        {
          "output_type": "display_data",
          "data": {
            "text/plain": [
              "<Figure size 432x288 with 1 Axes>"
            ],
            "image/png": "[encoded data removed]"
          },
          "metadata": {
            "needs_background": "light"
          }
        }
      ]
    },
    {
      "cell_type": "code",
      "source": [
        "coords=a;\n",
        "labels = [\"OD\", \"OR\", \"HC\"]\n",
        "colors = [\"#FDB813\", \"green\",  \"black\"]\n",
        "for i, coord in enumerate(coords):\n",
        "    plt.scatter(coord[0], coord[1], label=labels[i], c=colors[i], s=100)\n",
        "    plt.annotate(labels[i], (coord[0], coord[1]))\n",
        "# add x and y labels to the plot\n",
        "plt.xlabel('Umap 1')\n",
        "plt.ylabel('Umap 2')\n",
        "\n",
        "# add a legend to the plot\n",
        "plt.legend()\n",
        "\n",
        "plt.show()"
      ],
      "metadata": {
        "colab": {
          "base_uri": "https://localhost:8080/",
          "height": 279
        },
        "id": "BoZEsI-A9o15",
        "outputId": "7a0d860f-285f-4f64-cac9-b3b8f2126894"
      },
      "execution_count": 42,
      "outputs": [
        {
          "output_type": "display_data",
          "data": {
            "text/plain": [
              "<Figure size 432x288 with 1 Axes>"
            ],
            "image/png": "[encoded data removed]"
          },
          "metadata": {
            "needs_background": "light"
          }
        }
      ]
    },
    {
      "cell_type": "code",
      "source": [
        "c, coph_dists = cophenet(z,pdist(coords))\n",
        "c"
      ],
      "metadata": {
        "colab": {
          "base_uri": "https://localhost:8080/"
        },
        "id": "ECJ5p263Fr0j",
        "outputId": "f14b1e71-150d-4beb-f274-0725b1dd89c1"
      },
      "execution_count": 43,
      "outputs": [
        {
          "output_type": "execute_result",
          "data": {
            "text/plain": [
              "0.9166584293115718"
            ]
          },
          "metadata": {},
          "execution_count": 43
        }
      ]
    },
    {
      "cell_type": "code",
      "source": [
        "# Veh cbd\n",
        "a=np.array(centroids_veh_cbd[0])\n",
        "\n",
        "frame = pd.DataFrame(np.array(a), index=[\"OD\", \"OR\", \"HC\"])\n",
        "\n",
        "z = hac.linkage(a, method='average', metric='euclidean')\n",
        "plt.figure()\n",
        "plt.title('centroids_veh_cbd')\n",
        "dn = hac.dendrogram(z, labels=frame.index)"
      ],
      "metadata": {
        "colab": {
          "base_uri": "https://localhost:8080/",
          "height": 284
        },
        "id": "ON9s-l1D5Xsq",
        "outputId": "5513f6da-028f-4b5a-e246-76ae2ad8e485"
      },
      "execution_count": 52,
      "outputs": [
        {
          "output_type": "display_data",
          "data": {
            "text/plain": [
              "<Figure size 432x288 with 1 Axes>"
            ],
            "image/png": "[encoded data removed]"
          },
          "metadata": {
            "needs_background": "light"
          }
        }
      ]
    },
    {
      "cell_type": "code",
      "source": [
        "coords=a;\n",
        "labels = [\"OD\", \"OR\", \"HC\"]\n",
        "colors = [\"#FDB813\", \"green\",  \"black\"]\n",
        "for i, coord in enumerate(coords):\n",
        "    plt.scatter(coord[0], coord[1], label=labels[i], c=colors[i], s=100)\n",
        "    plt.annotate(labels[i], (coord[0], coord[1]))\n",
        "# add x and y labels to the plot\n",
        "plt.xlabel('Umap 1')\n",
        "plt.ylabel('Umap 2')\n",
        "\n",
        "# add a legend to the plot\n",
        "plt.legend()\n",
        "\n",
        "plt.show()"
      ],
      "metadata": {
        "colab": {
          "base_uri": "https://localhost:8080/",
          "height": 279
        },
        "id": "QYzEUOFj-yv-",
        "outputId": "0a987731-a165-4442-b6ba-77c9530b393b"
      },
      "execution_count": 45,
      "outputs": [
        {
          "output_type": "display_data",
          "data": {
            "text/plain": [
              "<Figure size 432x288 with 1 Axes>"
            ],
            "image/png": "[encoded data removed]"
          },
          "metadata": {
            "needs_background": "light"
          }
        }
      ]
    },
    {
      "cell_type": "code",
      "source": [
        "c, coph_dists = cophenet(z,pdist(coords))\n",
        "c"
      ],
      "metadata": {
        "colab": {
          "base_uri": "https://localhost:8080/"
        },
        "id": "I7dqpRWSDkpY",
        "outputId": "afe0e33b-a7d5-421e-8a69-e1865819a5b9"
      },
      "execution_count": 46,
      "outputs": [
        {
          "output_type": "execute_result",
          "data": {
            "text/plain": [
              "0.9986820422561918"
            ]
          },
          "metadata": {},
          "execution_count": 46
        }
      ]
    }
  ]
}